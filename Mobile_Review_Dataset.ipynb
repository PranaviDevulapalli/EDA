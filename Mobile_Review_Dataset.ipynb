{
 "cells": [
  {
   "cell_type": "code",
   "execution_count": 4,
   "metadata": {},
   "outputs": [],
   "source": [
    "import pandas as pd\n",
    "import numpy as np\n",
    "import matplotlib.pyplot as plt\n",
    "import seaborn as sns\n",
    "import os\n",
    "import warnings\n",
    "warnings.filterwarnings('ignore')"
   ]
  },
  {
   "cell_type": "markdown",
   "metadata": {},
   "source": [
    "IMPORTING THE DATASET"
   ]
  },
  {
   "cell_type": "code",
   "execution_count": 53,
   "metadata": {},
   "outputs": [],
   "source": [
    "data=pd.read_csv(\"C:/Users/DELL/Downloads/archive/Mobile Price Prediction Datatset.csv\")"
   ]
  },
  {
   "cell_type": "code",
   "execution_count": 54,
   "metadata": {},
   "outputs": [
    {
     "name": "stdout",
     "output_type": "stream",
     "text": [
      "<class 'pandas.core.frame.DataFrame'>\n"
     ]
    }
   ],
   "source": [
    "print(type(data))"
   ]
  },
  {
   "cell_type": "code",
   "execution_count": 58,
   "metadata": {},
   "outputs": [
    {
     "name": "stdout",
     "output_type": "stream",
     "text": [
      "Price\n",
      "649       32\n",
      "799       19\n",
      "1199      19\n",
      "1099      17\n",
      "1299      15\n",
      "          ..\n",
      "7199       1\n",
      "950        1\n",
      "253000     1\n",
      "9987       1\n",
      "21499      1\n",
      "Name: count, Length: 253, dtype: int64\n"
     ]
    }
   ],
   "source": [
    "print(data[\"Price\"].value_counts())"
   ]
  },
  {
   "cell_type": "code",
   "execution_count": 6,
   "metadata": {},
   "outputs": [
    {
     "data": {
      "text/html": [
       "<div>\n",
       "<style scoped>\n",
       "    .dataframe tbody tr th:only-of-type {\n",
       "        vertical-align: middle;\n",
       "    }\n",
       "\n",
       "    .dataframe tbody tr th {\n",
       "        vertical-align: top;\n",
       "    }\n",
       "\n",
       "    .dataframe thead th {\n",
       "        text-align: right;\n",
       "    }\n",
       "</style>\n",
       "<table border=\"1\" class=\"dataframe\">\n",
       "  <thead>\n",
       "    <tr style=\"text-align: right;\">\n",
       "      <th></th>\n",
       "      <th>Unnamed: 0</th>\n",
       "      <th>Brand me</th>\n",
       "      <th>Ratings</th>\n",
       "      <th>RAM</th>\n",
       "      <th>ROM</th>\n",
       "      <th>Mobile_Size</th>\n",
       "      <th>Primary_Cam</th>\n",
       "      <th>Selfi_Cam</th>\n",
       "      <th>Battery_Power</th>\n",
       "      <th>Price</th>\n",
       "    </tr>\n",
       "  </thead>\n",
       "  <tbody>\n",
       "    <tr>\n",
       "      <th>0</th>\n",
       "      <td>0</td>\n",
       "      <td>LG V30+ (Black, 128 )</td>\n",
       "      <td>4.3</td>\n",
       "      <td>4.0</td>\n",
       "      <td>128.0</td>\n",
       "      <td>6.00</td>\n",
       "      <td>48</td>\n",
       "      <td>13.0</td>\n",
       "      <td>4000</td>\n",
       "      <td>24999</td>\n",
       "    </tr>\n",
       "    <tr>\n",
       "      <th>1</th>\n",
       "      <td>1</td>\n",
       "      <td>I Kall K11</td>\n",
       "      <td>3.4</td>\n",
       "      <td>6.0</td>\n",
       "      <td>64.0</td>\n",
       "      <td>4.50</td>\n",
       "      <td>48</td>\n",
       "      <td>12.0</td>\n",
       "      <td>4000</td>\n",
       "      <td>15999</td>\n",
       "    </tr>\n",
       "    <tr>\n",
       "      <th>2</th>\n",
       "      <td>2</td>\n",
       "      <td>Nokia 105 ss</td>\n",
       "      <td>4.3</td>\n",
       "      <td>4.0</td>\n",
       "      <td>4.0</td>\n",
       "      <td>4.50</td>\n",
       "      <td>64</td>\n",
       "      <td>16.0</td>\n",
       "      <td>4000</td>\n",
       "      <td>15000</td>\n",
       "    </tr>\n",
       "    <tr>\n",
       "      <th>3</th>\n",
       "      <td>3</td>\n",
       "      <td>Samsung Galaxy A50 (White, 64 )</td>\n",
       "      <td>4.4</td>\n",
       "      <td>6.0</td>\n",
       "      <td>64.0</td>\n",
       "      <td>6.40</td>\n",
       "      <td>48</td>\n",
       "      <td>15.0</td>\n",
       "      <td>3800</td>\n",
       "      <td>18999</td>\n",
       "    </tr>\n",
       "    <tr>\n",
       "      <th>4</th>\n",
       "      <td>4</td>\n",
       "      <td>POCO F1 (Steel Blue, 128 )</td>\n",
       "      <td>4.5</td>\n",
       "      <td>6.0</td>\n",
       "      <td>128.0</td>\n",
       "      <td>6.18</td>\n",
       "      <td>35</td>\n",
       "      <td>15.0</td>\n",
       "      <td>3800</td>\n",
       "      <td>18999</td>\n",
       "    </tr>\n",
       "  </tbody>\n",
       "</table>\n",
       "</div>"
      ],
      "text/plain": [
       "   Unnamed: 0                         Brand me  Ratings  RAM    ROM  \\\n",
       "0           0            LG V30+ (Black, 128 )      4.3  4.0  128.0   \n",
       "1           1                       I Kall K11      3.4  6.0   64.0   \n",
       "2           2                     Nokia 105 ss      4.3  4.0    4.0   \n",
       "3           3  Samsung Galaxy A50 (White, 64 )      4.4  6.0   64.0   \n",
       "4           4       POCO F1 (Steel Blue, 128 )      4.5  6.0  128.0   \n",
       "\n",
       "   Mobile_Size  Primary_Cam  Selfi_Cam  Battery_Power  Price  \n",
       "0         6.00           48       13.0           4000  24999  \n",
       "1         4.50           48       12.0           4000  15999  \n",
       "2         4.50           64       16.0           4000  15000  \n",
       "3         6.40           48       15.0           3800  18999  \n",
       "4         6.18           35       15.0           3800  18999  "
      ]
     },
     "execution_count": 6,
     "metadata": {},
     "output_type": "execute_result"
    }
   ],
   "source": [
    "data.head()#Gives the first 5 data points to explore"
   ]
  },
  {
   "cell_type": "markdown",
   "metadata": {},
   "source": [
    "KNOWING THE COLUMN NAMES"
   ]
  },
  {
   "cell_type": "code",
   "execution_count": 7,
   "metadata": {},
   "outputs": [
    {
     "data": {
      "text/plain": [
       "Index(['Unnamed: 0', 'Brand me', 'Ratings', 'RAM', 'ROM', 'Mobile_Size',\n",
       "       'Primary_Cam', 'Selfi_Cam', 'Battery_Power', 'Price'],\n",
       "      dtype='object')"
      ]
     },
     "execution_count": 7,
     "metadata": {},
     "output_type": "execute_result"
    }
   ],
   "source": [
    "data.columns#Prints the column names"
   ]
  },
  {
   "cell_type": "code",
   "execution_count": 8,
   "metadata": {},
   "outputs": [
    {
     "name": "stdout",
     "output_type": "stream",
     "text": [
      "<class 'pandas.core.frame.DataFrame'>\n",
      "RangeIndex: 836 entries, 0 to 835\n",
      "Data columns (total 10 columns):\n",
      " #   Column         Non-Null Count  Dtype  \n",
      "---  ------         --------------  -----  \n",
      " 0   Unnamed: 0     836 non-null    int64  \n",
      " 1   Brand me       836 non-null    object \n",
      " 2   Ratings        805 non-null    float64\n",
      " 3   RAM            829 non-null    float64\n",
      " 4   ROM            832 non-null    float64\n",
      " 5   Mobile_Size    834 non-null    float64\n",
      " 6   Primary_Cam    836 non-null    int64  \n",
      " 7   Selfi_Cam      567 non-null    float64\n",
      " 8   Battery_Power  836 non-null    int64  \n",
      " 9   Price          836 non-null    int64  \n",
      "dtypes: float64(5), int64(4), object(1)\n",
      "memory usage: 65.4+ KB\n"
     ]
    }
   ],
   "source": [
    "data.info()#It gives the datatype of each datapoint"
   ]
  },
  {
   "cell_type": "code",
   "execution_count": 9,
   "metadata": {},
   "outputs": [
    {
     "data": {
      "text/plain": [
       "(836, 10)"
      ]
     },
     "execution_count": 9,
     "metadata": {},
     "output_type": "execute_result"
    }
   ],
   "source": [
    "data.shape#Prints the number of rows and columns"
   ]
  },
  {
   "cell_type": "code",
   "execution_count": 10,
   "metadata": {},
   "outputs": [
    {
     "data": {
      "text/html": [
       "<div>\n",
       "<style scoped>\n",
       "    .dataframe tbody tr th:only-of-type {\n",
       "        vertical-align: middle;\n",
       "    }\n",
       "\n",
       "    .dataframe tbody tr th {\n",
       "        vertical-align: top;\n",
       "    }\n",
       "\n",
       "    .dataframe thead th {\n",
       "        text-align: right;\n",
       "    }\n",
       "</style>\n",
       "<table border=\"1\" class=\"dataframe\">\n",
       "  <thead>\n",
       "    <tr style=\"text-align: right;\">\n",
       "      <th></th>\n",
       "      <th>Unnamed: 0</th>\n",
       "      <th>Ratings</th>\n",
       "      <th>RAM</th>\n",
       "      <th>ROM</th>\n",
       "      <th>Mobile_Size</th>\n",
       "      <th>Primary_Cam</th>\n",
       "      <th>Selfi_Cam</th>\n",
       "      <th>Battery_Power</th>\n",
       "      <th>Price</th>\n",
       "    </tr>\n",
       "  </thead>\n",
       "  <tbody>\n",
       "    <tr>\n",
       "      <th>count</th>\n",
       "      <td>836.000000</td>\n",
       "      <td>805.000000</td>\n",
       "      <td>829.000000</td>\n",
       "      <td>832.000000</td>\n",
       "      <td>834.000000</td>\n",
       "      <td>836.000000</td>\n",
       "      <td>567.000000</td>\n",
       "      <td>836.000000</td>\n",
       "      <td>836.00000</td>\n",
       "    </tr>\n",
       "    <tr>\n",
       "      <th>mean</th>\n",
       "      <td>417.500000</td>\n",
       "      <td>4.103106</td>\n",
       "      <td>6.066345</td>\n",
       "      <td>64.373077</td>\n",
       "      <td>5.597282</td>\n",
       "      <td>47.983254</td>\n",
       "      <td>9.784832</td>\n",
       "      <td>3274.688995</td>\n",
       "      <td>18220.34689</td>\n",
       "    </tr>\n",
       "    <tr>\n",
       "      <th>std</th>\n",
       "      <td>241.476707</td>\n",
       "      <td>0.365356</td>\n",
       "      <td>2.530336</td>\n",
       "      <td>53.447825</td>\n",
       "      <td>3.898664</td>\n",
       "      <td>11.170093</td>\n",
       "      <td>6.503838</td>\n",
       "      <td>927.518852</td>\n",
       "      <td>52805.55022</td>\n",
       "    </tr>\n",
       "    <tr>\n",
       "      <th>min</th>\n",
       "      <td>0.000000</td>\n",
       "      <td>2.800000</td>\n",
       "      <td>0.000000</td>\n",
       "      <td>0.000000</td>\n",
       "      <td>2.000000</td>\n",
       "      <td>5.000000</td>\n",
       "      <td>0.000000</td>\n",
       "      <td>1020.000000</td>\n",
       "      <td>479.00000</td>\n",
       "    </tr>\n",
       "    <tr>\n",
       "      <th>25%</th>\n",
       "      <td>208.750000</td>\n",
       "      <td>3.800000</td>\n",
       "      <td>6.000000</td>\n",
       "      <td>32.000000</td>\n",
       "      <td>4.500000</td>\n",
       "      <td>48.000000</td>\n",
       "      <td>5.000000</td>\n",
       "      <td>3000.000000</td>\n",
       "      <td>984.75000</td>\n",
       "    </tr>\n",
       "    <tr>\n",
       "      <th>50%</th>\n",
       "      <td>417.500000</td>\n",
       "      <td>4.100000</td>\n",
       "      <td>6.000000</td>\n",
       "      <td>40.000000</td>\n",
       "      <td>4.770000</td>\n",
       "      <td>48.000000</td>\n",
       "      <td>8.000000</td>\n",
       "      <td>3000.000000</td>\n",
       "      <td>1697.00000</td>\n",
       "    </tr>\n",
       "    <tr>\n",
       "      <th>75%</th>\n",
       "      <td>626.250000</td>\n",
       "      <td>4.400000</td>\n",
       "      <td>6.000000</td>\n",
       "      <td>64.000000</td>\n",
       "      <td>6.300000</td>\n",
       "      <td>48.000000</td>\n",
       "      <td>13.000000</td>\n",
       "      <td>3800.000000</td>\n",
       "      <td>18999.00000</td>\n",
       "    </tr>\n",
       "    <tr>\n",
       "      <th>max</th>\n",
       "      <td>835.000000</td>\n",
       "      <td>4.800000</td>\n",
       "      <td>34.000000</td>\n",
       "      <td>256.000000</td>\n",
       "      <td>44.000000</td>\n",
       "      <td>64.000000</td>\n",
       "      <td>61.000000</td>\n",
       "      <td>6000.000000</td>\n",
       "      <td>573000.00000</td>\n",
       "    </tr>\n",
       "  </tbody>\n",
       "</table>\n",
       "</div>"
      ],
      "text/plain": [
       "       Unnamed: 0     Ratings         RAM         ROM  Mobile_Size  \\\n",
       "count  836.000000  805.000000  829.000000  832.000000   834.000000   \n",
       "mean   417.500000    4.103106    6.066345   64.373077     5.597282   \n",
       "std    241.476707    0.365356    2.530336   53.447825     3.898664   \n",
       "min      0.000000    2.800000    0.000000    0.000000     2.000000   \n",
       "25%    208.750000    3.800000    6.000000   32.000000     4.500000   \n",
       "50%    417.500000    4.100000    6.000000   40.000000     4.770000   \n",
       "75%    626.250000    4.400000    6.000000   64.000000     6.300000   \n",
       "max    835.000000    4.800000   34.000000  256.000000    44.000000   \n",
       "\n",
       "       Primary_Cam   Selfi_Cam  Battery_Power         Price  \n",
       "count   836.000000  567.000000     836.000000     836.00000  \n",
       "mean     47.983254    9.784832    3274.688995   18220.34689  \n",
       "std      11.170093    6.503838     927.518852   52805.55022  \n",
       "min       5.000000    0.000000    1020.000000     479.00000  \n",
       "25%      48.000000    5.000000    3000.000000     984.75000  \n",
       "50%      48.000000    8.000000    3000.000000    1697.00000  \n",
       "75%      48.000000   13.000000    3800.000000   18999.00000  \n",
       "max      64.000000   61.000000    6000.000000  573000.00000  "
      ]
     },
     "execution_count": 10,
     "metadata": {},
     "output_type": "execute_result"
    }
   ],
   "source": [
    "data.describe()#it gives the central tendencies of the data"
   ]
  },
  {
   "cell_type": "code",
   "execution_count": 11,
   "metadata": {},
   "outputs": [
    {
     "data": {
      "text/plain": [
       "array([ 24999,  15999,  15000,  18999, 140300,  29999,  47999,  16490,\n",
       "        22999,   1099,   1299,   5498,   3999,  43999,  42990,    990,\n",
       "        77999,  12990,   1199,   1699,   1349,   1240,    649,   1690,\n",
       "          927,   1599,    999,  54990,  21499,   1799, 573000,   1549,\n",
       "          847,   1579,   1330,    945,  15899,  31590,   1451,   7490,\n",
       "          798,    869,   3580,   1695,   2599, 117100,  53990,  31999,\n",
       "         1390,    898,    799, 121300,   9790,    930,  13999,   1149,\n",
       "        56999,  68300,   8798,   8990,   3149,  42998,  18990, 106600,\n",
       "       103000,  18989,  17990,   1500,   1570,  38990,   1399,    785,\n",
       "         2100,   9999,   1049,   1100,   1790,   1125,   1625,    559,\n",
       "          749,   9490,  14990,   1499,  36990,  21999,    940,    899,\n",
       "         1250,   2450,   2299,    685,   1190,   1369,    960,    639,\n",
       "        13744,  13950,    479,   2025, 153000,    650,  13298,  17999,\n",
       "        16499,  18099,    699,   6999,    539,  13699,    813,    890,\n",
       "         1200,  52962,    735,  12999,  17190,   6499,  19999,    949,\n",
       "          948,    595,   7199,    950, 253000,    669,    849,    850,\n",
       "        84900,   1640,    599,  13990,    955,  59000,   1111,    715,\n",
       "         9998,  13900,   4399,  17398, 112450,  24990,  19990,   1710,\n",
       "        22221,   1273,  49900,  75000,  11950,   1540,   1480,   1300,\n",
       "          870,    920,    998,   3000,  25999,   1225,   4999,   9499,\n",
       "        11999,  16999,  17499,  16990,  10990,   9990,  12490,  15990,\n",
       "        12900,   9939,  12649,   9987,    984,    975,    985,   1329,\n",
       "        38050,  37319,  36999,  35999,   8996,  19900,  34990,  14999,\n",
       "          980,    935,  38999,  39999,  18499,    982,  37990,  10169,\n",
       "         1346,  16899,  30999,  31990,    629,    970,   1110,   1045,\n",
       "        29990,  32999,   2135,  44990,  41990,  15490,  46970,   1259,\n",
       "         1619,  14995,   1079,   3399,   1275,    705,   5049,  16675,\n",
       "          959,    995,   7999, 563000,   1098,  21099,    900,  29499,\n",
       "         9350,   1840,  27999,  23990,  16299,   8490,  15656,   1089,\n",
       "         1575,  67820,  25250,   8995,  28999,   9989,  46969,   1460,\n",
       "        42999,  18570,  51987,   1680,  40900,    645,   4277,   1280,\n",
       "         1350,   1269,  25900,    697,   1080], dtype=int64)"
      ]
     },
     "execution_count": 11,
     "metadata": {},
     "output_type": "execute_result"
    }
   ],
   "source": [
    "data['Price'].unique()#returns the unique price values"
   ]
  },
  {
   "cell_type": "code",
   "execution_count": 12,
   "metadata": {},
   "outputs": [
    {
     "data": {
      "text/plain": [
       "Unnamed: 0         0\n",
       "Brand me           0\n",
       "Ratings           31\n",
       "RAM                7\n",
       "ROM                4\n",
       "Mobile_Size        2\n",
       "Primary_Cam        0\n",
       "Selfi_Cam        269\n",
       "Battery_Power      0\n",
       "Price              0\n",
       "dtype: int64"
      ]
     },
     "execution_count": 12,
     "metadata": {},
     "output_type": "execute_result"
    }
   ],
   "source": [
    "pd.isnull(data).sum()#To find the number of datapoints with null points"
   ]
  },
  {
   "cell_type": "code",
   "execution_count": 13,
   "metadata": {},
   "outputs": [],
   "source": [
    "x=data['Price']#Stores all the prices of the mobile\n",
    "y=data.drop('Price',axis=1)"
   ]
  },
  {
   "cell_type": "code",
   "execution_count": 14,
   "metadata": {},
   "outputs": [
    {
     "data": {
      "text/plain": [
       "array([ 24999,  15999,  15000,  18999, 140300,  29999,  47999,  16490,\n",
       "        22999,   1099,   1299,   5498,   3999,  43999,  42990,    990,\n",
       "        77999,  12990,   1199,   1699,   1349,   1240,    649,   1690,\n",
       "          927,   1599,    999,  54990,  21499,   1799, 573000,   1549,\n",
       "          847,   1579,   1330,    945,  15899,  31590,   1451,   7490,\n",
       "          798,    869,   3580,   1695,   2599, 117100,  53990,  31999,\n",
       "         1390,    898,    799, 121300,   9790,    930,  13999,   1149,\n",
       "        56999,  68300,   8798,   8990,   3149,  42998,  18990, 106600,\n",
       "       103000,  18989,  17990,   1500,   1570,  38990,   1399,    785,\n",
       "         2100,   9999,   1049,   1100,   1790,   1125,   1625,    559,\n",
       "          749,   9490,  14990,   1499,  36990,  21999,    940,    899,\n",
       "         1250,   2450,   2299,    685,   1190,   1369,    960,    639,\n",
       "        13744,  13950,    479,   2025, 153000,    650,  13298,  17999,\n",
       "        16499,  18099,    699,   6999,    539,  13699,    813,    890,\n",
       "         1200,  52962,    735,  12999,  17190,   6499,  19999,    949,\n",
       "          948,    595,   7199,    950, 253000,    669,    849,    850,\n",
       "        84900,   1640,    599,  13990,    955,  59000,   1111,    715,\n",
       "         9998,  13900,   4399,  17398, 112450,  24990,  19990,   1710,\n",
       "        22221,   1273,  49900,  75000,  11950,   1540,   1480,   1300,\n",
       "          870,    920,    998,   3000,  25999,   1225,   4999,   9499,\n",
       "        11999,  16999,  17499,  16990,  10990,   9990,  12490,  15990,\n",
       "        12900,   9939,  12649,   9987,    984,    975,    985,   1329,\n",
       "        38050,  37319,  36999,  35999,   8996,  19900,  34990,  14999,\n",
       "          980,    935,  38999,  39999,  18499,    982,  37990,  10169,\n",
       "         1346,  16899,  30999,  31990,    629,    970,   1110,   1045,\n",
       "        29990,  32999,   2135,  44990,  41990,  15490,  46970,   1259,\n",
       "         1619,  14995,   1079,   3399,   1275,    705,   5049,  16675,\n",
       "          959,    995,   7999, 563000,   1098,  21099,    900,  29499,\n",
       "         9350,   1840,  27999,  23990,  16299,   8490,  15656,   1089,\n",
       "         1575,  67820,  25250,   8995,  28999,   9989,  46969,   1460,\n",
       "        42999,  18570,  51987,   1680,  40900,    645,   4277,   1280,\n",
       "         1350,   1269,  25900,    697,   1080], dtype=int64)"
      ]
     },
     "execution_count": 14,
     "metadata": {},
     "output_type": "execute_result"
    }
   ],
   "source": [
    "x.unique()"
   ]
  },
  {
   "cell_type": "code",
   "execution_count": 63,
   "metadata": {},
   "outputs": [
    {
     "data": {
      "image/png": "[encoded data removed]",
      "text/plain": [
       "<Figure size 800x600 with 1 Axes>"
      ]
     },
     "metadata": {},
     "output_type": "display_data"
    }
   ],
   "source": [
    "# Determine the number of bins\n",
    "num_bins = 50\n",
    "\n",
    "# Plot the histogram with increased bins\n",
    "plt.figure(figsize=(8, 6))\n",
    "plt.hist(data['Price'], bins=num_bins, color='skyblue', edgecolor='black')\n",
    "plt.title('Distribution of Prices')\n",
    "plt.xlabel('Price')\n",
    "plt.ylabel('Frequency')\n",
    "plt.grid(True)\n",
    "plt.show()\n"
   ]
  },
  {
   "cell_type": "code",
   "execution_count": 64,
   "metadata": {},
   "outputs": [
    {
     "data": {
      "image/png": "[encoded data removed]",
      "text/plain": [
       "<Figure size 800x600 with 1 Axes>"
      ]
     },
     "metadata": {},
     "output_type": "display_data"
    }
   ],
   "source": [
    "# Define the range for logarithmic binning\n",
    "min_price = data['Price'].min()\n",
    "max_price = data['Price'].max()\n",
    "\n",
    "# Create logarithmically spaced bins\n",
    "log_bins = np.logspace(np.log10(min_price), np.log10(max_price), num=20)\n",
    "\n",
    "# Plot the histogram with logarithmic binning\n",
    "plt.figure(figsize=(8, 6))\n",
    "plt.hist(data['Price'], bins=log_bins, color='skyblue', edgecolor='black')\n",
    "plt.title('Distribution of Prices (Logarithmic Binning)')\n",
    "plt.xscale('log')  # Set x-axis scale to logarithmic\n",
    "plt.xlabel('Price')\n",
    "plt.ylabel('Frequency')\n",
    "plt.grid(True)\n",
    "plt.show()\n"
   ]
  }
 ],
 "metadata": {
  "kernelspec": {
   "display_name": "Python 3",
   "language": "python",
   "name": "python3"
  },
  "language_info": {
   "codemirror_mode": {
    "name": "ipython",
    "version": 3
   },
   "file_extension": ".py",
   "mimetype": "text/x-python",
   "name": "python",
   "nbconvert_exporter": "python",
   "pygments_lexer": "ipython3",
   "version": "3.12.2"
  }
 },
 "nbformat": 4,
 "nbformat_minor": 2
}
